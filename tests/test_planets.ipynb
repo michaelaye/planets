{
 "cells": [
  {
   "cell_type": "code",
   "execution_count": 1,
   "metadata": {},
   "outputs": [],
   "source": [
    "import planets"
   ]
  },
  {
   "cell_type": "code",
   "execution_count": 2,
   "metadata": {},
   "outputs": [
    {
     "name": "stdout",
     "output_type": "stream",
     "text": [
      "AU\n",
      "AU doesn't seem to be a planet.\n",
      "Bennu\n",
      "Radius: 262.5 m\n",
      "Earth\n",
      "Radius: 6371.008366666666 km\n",
      "Europa\n",
      "Radius: 1561.5666666666666 km\n",
      "G\n",
      "G doesn't seem to be a planet.\n",
      "Ganymede\n",
      "Radius: 2631.2 km\n",
      "Jupiter\n",
      "Radius: 69946.0 km\n",
      "Mars\n",
      "Radius: 3389.5266666666666 km\n",
      "Mercury\n",
      "Radius: 2439.7733333333335 km\n",
      "Moon\n",
      "Radius: 1737.4000000000003 km\n",
      "Neptune\n",
      "Radius: 24623.0 km\n",
      "Planet\n",
      "Radius: <property object at 0x10a02c5e0>\n",
      "Pluto\n",
      "Radius: 1188.3 km\n",
      "Saturn\n",
      "Radius: 58300.0 km\n",
      "Titan\n",
      "Radius: 2574.9233333333336 km\n",
      "Triton\n",
      "Radius: 1352.6 km\n",
      "Uranus\n",
      "Radius: 25363.666666666668 km\n",
      "Venus\n",
      "Radius: 6051.8 km\n"
     ]
    }
   ],
   "source": [
    "for item in dir(planets):\n",
    "    if item.islower() or item.startswith(\"__\"):\n",
    "        continue\n",
    "    p = getattr(planets, item)\n",
    "    try:\n",
    "        print(item)\n",
    "        print(\"Radius:\", p.R)\n",
    "    except AttributeError:\n",
    "        print(item, \"doesn't seem to be a planet.\")\n",
    "    except:\n",
    "        print(item, \"might not be defined in SPICE\")"
   ]
  },
  {
   "cell_type": "code",
   "execution_count": null,
   "metadata": {},
   "outputs": [],
   "source": []
  }
 ],
 "metadata": {
  "kernelspec": {
   "display_name": "py312",
   "language": "python",
   "name": "python3"
  },
  "language_info": {
   "codemirror_mode": {
    "name": "ipython",
    "version": 3
   },
   "file_extension": ".py",
   "mimetype": "text/x-python",
   "name": "python",
   "nbconvert_exporter": "python",
   "pygments_lexer": "ipython3",
   "version": "3.12.8"
  }
 },
 "nbformat": 4,
 "nbformat_minor": 2
}
