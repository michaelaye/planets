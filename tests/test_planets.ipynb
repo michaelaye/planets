{
 "cells": [
  {
   "cell_type": "code",
   "execution_count": 3,
   "metadata": {},
   "outputs": [],
   "source": [
    "import planets"
   ]
  },
  {
   "cell_type": "code",
   "execution_count": 4,
   "metadata": {},
   "outputs": [
    {
     "name": "stdout",
     "output_type": "stream",
     "text": [
      "AU\n",
      "AU doesn't seem to be a planet.\n",
      "Bennu\n",
      "Radius: 262.5 m\n",
      "Earth\n",
      "Radius: 6371.008366666666 km\n",
      "Europa\n",
      "Radius: 1560.8 km\n",
      "G\n",
      "G doesn't seem to be a planet.\n",
      "Ganymede\n",
      "Radius: 2631.2 km\n",
      "Jupiter\n",
      "Radius: 69946.0 km\n",
      "Mars\n",
      "Radius: 3389.5266666666666 km\n",
      "Mercury\n",
      "Radius: 2439.7 km\n",
      "Moon\n",
      "Radius: 1737.4000000000003 km\n",
      "Neptune\n",
      "Radius: 24623.0 km\n",
      "Planet\n",
      "Radius: <property object at 0x11c596188>\n",
      "Pluto\n",
      "Radius: 1195.0 km\n",
      "Saturn\n",
      "Radius: 58300.0 km\n",
      "Titan\n",
      "Radius: 2574.7999999999997 km\n",
      "Triton\n",
      "Radius: 1352.6 km\n",
      "Uranus\n",
      "Radius: 25363.666666666668 km\n",
      "Venus\n",
      "Radius: 6051.8 km\n"
     ]
    }
   ],
   "source": [
    "for item in dir(planets):\n",
    "    if item.islower() or item.startswith(\"__\"):\n",
    "        continue\n",
    "    p = getattr(planets, item)\n",
    "    try:\n",
    "        print(item)\n",
    "        print(\"Radius:\", p.R)\n",
    "    except AttributeError:\n",
    "        print(item, \"doesn't seem to be a planet.\")\n",
    "    except:\n",
    "        print(item, \"might not be defined in SPICE\")"
   ]
  },
  {
   "cell_type": "code",
   "execution_count": 15,
   "metadata": {},
   "outputs": [],
   "source": [
    "PLANETS = (\"mercury venus earth mars jupiter saturn uranus \"\n",
    "           \"neptune pluto triton europa ganymede bennu ceres vesta\").split()"
   ]
  },
  {
   "cell_type": "code",
   "execution_count": 16,
   "metadata": {},
   "outputs": [
    {
     "data": {
      "text/plain": [
       "['mercury',\n",
       " 'venus',\n",
       " 'earth',\n",
       " 'mars',\n",
       " 'jupiter',\n",
       " 'saturn',\n",
       " 'uranus',\n",
       " 'neptune',\n",
       " 'pluto',\n",
       " 'triton',\n",
       " 'europa',\n",
       " 'ganymede',\n",
       " 'bennu',\n",
       " 'ceres',\n",
       " 'vesta']"
      ]
     },
     "execution_count": 16,
     "metadata": {},
     "output_type": "execute_result"
    }
   ],
   "source": [
    "PLANETS"
   ]
  },
  {
   "cell_type": "code",
   "execution_count": 16,
   "metadata": {},
   "outputs": [
    {
     "name": "stdout",
     "output_type": "stream",
     "text": [
      "Object `spice.bodvrd` not found.\n"
     ]
    }
   ],
   "source": []
  },
  {
   "cell_type": "code",
   "execution_count": 22,
   "metadata": {},
   "outputs": [
    {
     "data": {
      "text/plain": [
       "['AU',\n",
       " 'G',\n",
       " 'Mercury',\n",
       " 'Planet',\n",
       " '__author__',\n",
       " '__builtins__',\n",
       " '__cached__',\n",
       " '__doc__',\n",
       " '__email__',\n",
       " '__file__',\n",
       " '__loader__',\n",
       " '__name__',\n",
       " '__package__',\n",
       " '__path__',\n",
       " '__spec__',\n",
       " '__version__',\n",
       " '_planets',\n",
       " 'au',\n",
       " 'np',\n",
       " 'sigma',\n",
       " 'sigma_sb',\n",
       " 'spice',\n",
       " 'spicer']"
      ]
     },
     "execution_count": 22,
     "metadata": {},
     "output_type": "execute_result"
    }
   ],
   "source": [
    "dir(planets)"
   ]
  },
  {
   "cell_type": "code",
   "execution_count": null,
   "metadata": {},
   "outputs": [],
   "source": [
    "for planet in PLANETS:\n",
    "    p = getattr()"
   ]
  }
 ],
 "metadata": {
  "kernelspec": {
   "display_name": "Python 3",
   "language": "python",
   "name": "python3"
  },
  "language_info": {
   "codemirror_mode": {
    "name": "ipython",
    "version": 3
   },
   "file_extension": ".py",
   "mimetype": "text/x-python",
   "name": "python",
   "nbconvert_exporter": "python",
   "pygments_lexer": "ipython3",
   "version": "3.7.3"
  }
 },
 "nbformat": 4,
 "nbformat_minor": 2
}
