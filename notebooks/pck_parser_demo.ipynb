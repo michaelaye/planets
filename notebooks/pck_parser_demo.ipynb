{
 "cells": [
  {
   "cell_type": "markdown",
   "metadata": {},
   "source": [
    "# PCK Parser Demonstration\n",
    "\n",
    "This notebook demonstrates how to use the `pck_parser` module to extract constants from SPICE PCK kernel files."
   ]
  },
  {
   "cell_type": "code",
   "execution_count": 1,
   "metadata": {},
   "outputs": [],
   "source": [
    "from pathlib import Path\n",
    "\n",
    "import matplotlib.pyplot as plt\n",
    "import pandas as pd\n",
    "import pooch\n",
    "\n",
    "from planets.pck_parser import (\n",
    "    extract_body_radii,\n",
    "    parse_multiple_files,\n",
    "    parse_pck_file,\n",
    ")\n"
   ]
  },
  {
   "cell_type": "markdown",
   "metadata": {},
   "source": [
    "## Retrieve most recent PCK Files\n",
    "\n",
    "This is hardcoded into the parser, so no need to copy this somewhere."
   ]
  },
  {
   "cell_type": "code",
   "execution_count": 2,
   "metadata": {},
   "outputs": [],
   "source": [
    "pck_file = Path(\n",
    "    pooch.retrieve(\n",
    "        \"https://naif.jpl.nasa.gov/pub/naif/generic_kernels/pck/pck00011.tpc\",\n",
    "        known_hash=\"sha256:3dff7b1dbeceaa01f25467767d3fa25816051c85d162d1edf04acb310ee28bb1\",\n",
    "    )\n",
    ")\n",
    "pck_file_03 = Path(\n",
    "    pooch.retrieve(\n",
    "        \"https://naif.jpl.nasa.gov/pub/naif/generic_kernels/pck/a_old_versions/pck00003.tpc\",\n",
    "        known_hash=\"sha256:7f22fb3ebc71d5d75bd2d73a386cdc91db1d742bd9737b1b326f919d7a976064\",\n",
    "    )\n",
    ")"
   ]
  },
  {
   "cell_type": "markdown",
   "metadata": {},
   "source": [
    "## Parse a Single PCK File\n",
    "\n",
    "Let's parse a single PCK file to see what constants are available."
   ]
  },
  {
   "cell_type": "code",
   "execution_count": 3,
   "metadata": {},
   "outputs": [
    {
     "name": "stdout",
     "output_type": "stream",
     "text": [
      "Parsing file: b5a8070e9cb831ca0b790fe26032ced3-pck00011.tpc\n",
      "Found 528 constants\n",
      "\n",
      "Example constants:\n",
      "BODY10_POLE_RA: [286.13, 0.0, 0.0] (Block 2)\n",
      "BODY10_POLE_DEC: [63.87, 0.0, 0.0] (Block 2)\n",
      "BODY10_PM: [84.176, 14.1844, 0.0] (Block 2)\n",
      "BODY10_LONG_AXIS: [0.0] (Block 2)\n",
      "BODY199_POLE_RA: [281.0103, -0.0328, 0.0] (Block 3)\n"
     ]
    }
   ],
   "source": [
    "# Parse the first PCK file (if any exist)\n",
    "print(f\"Parsing file: {pck_file.name}\")\n",
    "\n",
    "# Parse the file\n",
    "constants = parse_pck_file(pck_file)\n",
    "\n",
    "print(f\"Found {len(constants)} constants\")\n",
    "\n",
    "# Show a few example constants\n",
    "print(\"\\nExample constants:\")\n",
    "for i, (key, data) in enumerate(list(constants.items())[:5]):\n",
    "    print(f\"{key}: {data['value']} (Block {data['block']})\")\n",
    "    if i >= 4:\n",
    "        break"
   ]
  },
  {
   "cell_type": "markdown",
   "metadata": {},
   "source": [
    "## Extract Body Radii\n",
    "\n",
    "Now let's extract the radii values for all bodies in the PCK file."
   ]
  },
  {
   "cell_type": "code",
   "execution_count": 4,
   "metadata": {},
   "outputs": [
    {
     "name": "stdout",
     "output_type": "stream",
     "text": [
      "Found radii for 95 bodies\n"
     ]
    }
   ],
   "source": [
    "if \"constants\" in locals():\n",
    "    # Extract radii information\n",
    "    radii = extract_body_radii(constants)\n",
    "    print(f\"Found radii for {len(radii)} bodies\")\n",
    "\n",
    "    # Create a DataFrame for better display\n",
    "    radii_data = []\n",
    "    for body_id, values in radii.items():\n",
    "        if len(values) >= 3:\n",
    "            radii_data.append(\n",
    "                {\n",
    "                    \"Body ID\": body_id,\n",
    "                    \"Equatorial Radius 1 (km)\": values[0],\n",
    "                    \"Equatorial Radius 2 (km)\": values[1],\n",
    "                    \"Polar Radius (km)\": values[2],\n",
    "                }\n",
    "            )\n",
    "\n",
    "    # Create DataFrame\n",
    "    df_radii = pd.DataFrame(radii_data)\n",
    "\n",
    "    # Sort by body ID\n",
    "    df_radii = df_radii.sort_values(\"Body ID\")\n",
    "\n",
    "    # Display the DataFrame\n",
    "    df_radii.head(10)"
   ]
  },
  {
   "cell_type": "markdown",
   "metadata": {},
   "source": [
    "## Major Planets\n",
    "\n",
    "Let's focus on the major planets of our solar system."
   ]
  },
  {
   "cell_type": "code",
   "execution_count": 5,
   "metadata": {},
   "outputs": [],
   "source": [
    "# NAIF IDs for major planets\n",
    "planet_ids = {\n",
    "    199: \"Mercury\",\n",
    "    299: \"Venus\",\n",
    "    399: \"Earth\",\n",
    "    499: \"Mars\",\n",
    "    599: \"Jupiter\",\n",
    "    699: \"Saturn\",\n",
    "    799: \"Uranus\",\n",
    "    899: \"Neptune\",\n",
    "    999: \"Pluto\",\n",
    "}\n",
    "\n",
    "if \"radii\" in locals():\n",
    "    # Extract data for major planets\n",
    "    planet_data = []\n",
    "    for body_id, name in planet_ids.items():\n",
    "        if body_id in radii and len(radii[body_id]) >= 3:\n",
    "            values = radii[body_id]\n",
    "            planet_data.append(\n",
    "                {\n",
    "                    \"Planet\": name,\n",
    "                    \"Body ID\": body_id,\n",
    "                    \"Equatorial Radius (km)\": values[0],\n",
    "                    \"Polar Radius (km)\": values[2],\n",
    "                    \"Flattening\": (values[0] - values[2]) / values[0],\n",
    "                }\n",
    "            )\n",
    "\n",
    "    # Create DataFrame\n",
    "    df_planets = pd.DataFrame(planet_data)\n",
    "\n",
    "    # Sort by body ID\n",
    "    df_planets = df_planets.sort_values(\"Body ID\")\n",
    "\n",
    "    # Display the DataFrame\n",
    "    df_planets"
   ]
  },
  {
   "cell_type": "markdown",
   "metadata": {},
   "source": [
    "## Visualize Planet Sizes\n",
    "\n",
    "Let's create a bar chart to visualize the sizes of the planets."
   ]
  },
  {
   "cell_type": "code",
   "execution_count": 6,
   "metadata": {},
   "outputs": [
    {
     "data": {
      "image/png": "[encoded data removed]",
      "text/plain": [
       "<Figure size 1200x600 with 1 Axes>"
      ]
     },
     "metadata": {},
     "output_type": "display_data"
    }
   ],
   "source": [
    "if \"df_planets\" in locals() and not df_planets.empty:\n",
    "    # Set up the figure\n",
    "    plt.figure(figsize=(12, 6))\n",
    "\n",
    "    # Create bar chart\n",
    "    bars = plt.bar(df_planets[\"Planet\"], df_planets[\"Equatorial Radius (km)\"])\n",
    "\n",
    "    # Add labels and title\n",
    "    plt.xlabel(\"Planet\")\n",
    "    plt.ylabel(\"Equatorial Radius (km)\")\n",
    "    plt.title(\"Equatorial Radii of Solar System Planets\")\n",
    "\n",
    "    # Add value labels above bars\n",
    "    for bar in bars:\n",
    "        height = bar.get_height()\n",
    "        plt.text(\n",
    "            bar.get_x() + bar.get_width() / 2.0,\n",
    "            height + 500,\n",
    "            f\"{int(height):,}\",\n",
    "            ha=\"center\",\n",
    "            va=\"bottom\",\n",
    "            rotation=0,\n",
    "        )\n",
    "\n",
    "    # Show the plot\n",
    "    plt.grid(axis=\"y\", linestyle=\"--\", alpha=0.7)\n",
    "    plt.xticks(rotation=45)\n",
    "    plt.tight_layout()\n",
    "    plt.show()"
   ]
  },
  {
   "cell_type": "markdown",
   "metadata": {},
   "source": [
    "## Compare Data Across Different PCK Versions\n",
    "\n",
    "Let's compare the data across different PCK file versions to see if there are any changes in the values."
   ]
  },
  {
   "cell_type": "code",
   "execution_count": 7,
   "metadata": {},
   "outputs": [],
   "source": [
    "pck_files = [pck_file, pck_file_03]"
   ]
  },
  {
   "cell_type": "code",
   "execution_count": 8,
   "metadata": {},
   "outputs": [
    {
     "data": {
      "text/plain": [
       "PosixPath('/Users/maye/Library/Caches/pooch/b5a8070e9cb831ca0b790fe26032ced3-pck00011.tpc')"
      ]
     },
     "execution_count": 8,
     "metadata": {},
     "output_type": "execute_result"
    }
   ],
   "source": [
    "pck_file"
   ]
  },
  {
   "cell_type": "code",
   "execution_count": 9,
   "metadata": {},
   "outputs": [
    {
     "data": {
      "text/plain": [
       "PosixPath('/Users/maye/Library/Caches/pooch/87c5b4ba278028f9202bb23a7b5c88c4-pck00003.tpc')"
      ]
     },
     "execution_count": 9,
     "metadata": {},
     "output_type": "execute_result"
    }
   ],
   "source": [
    "pck_file_03"
   ]
  },
  {
   "cell_type": "code",
   "execution_count": 12,
   "metadata": {},
   "outputs": [
    {
     "name": "stdout",
     "output_type": "stream",
     "text": [
      "Earth's radii across different PCK versions:\n",
      "pck00011: [6378.1366, 6378.1366, 6356.7519]\n",
      "pck00003: [6378.14, 6378.14, 6356.75]\n"
     ]
    }
   ],
   "source": [
    "if len(pck_files) > 1:\n",
    "    # Parse all PCK files\n",
    "    all_data = parse_multiple_files(pck_files)\n",
    "\n",
    "    # Extract radii from each file\n",
    "    all_radii = {}\n",
    "    for filename, constants in all_data.items():\n",
    "        version = Path(filename).stem.split(\"-\")[1]  # Gets filename without extension, then splits\n",
    "        all_radii[version] = extract_body_radii(constants)\n",
    "\n",
    "    # Compare Earth's radius across versions\n",
    "    earth_id = 399\n",
    "    earth_radii = {}\n",
    "\n",
    "    for version, radii_dict in all_radii.items():\n",
    "        if earth_id in radii_dict:\n",
    "            earth_radii[version] = radii_dict[earth_id]\n",
    "\n",
    "    # Display the comparison\n",
    "    print(\"Earth's radii across different PCK versions:\")\n",
    "    for version, radii in earth_radii.items():\n",
    "        print(f\"{version}: {radii}\")\n",
    "else:\n",
    "    print(\"Need multiple PCK files to compare versions.\")"
   ]
  },
  {
   "cell_type": "markdown",
   "metadata": {},
   "source": [
    "## Conclusion\n",
    "\n",
    "This notebook demonstrated how to use the PCK parser to extract constants from SPICE PCK kernel files. The parser can be used to extract a variety of constants, including radii, gravitational parameters, and orientation data for planetary bodies."
   ]
  },
  {
   "cell_type": "code",
   "execution_count": 13,
   "metadata": {},
   "outputs": [
    {
     "data": {
      "text/html": [
       "<div>\n",
       "<style scoped>\n",
       "    .dataframe tbody tr th:only-of-type {\n",
       "        vertical-align: middle;\n",
       "    }\n",
       "\n",
       "    .dataframe tbody tr th {\n",
       "        vertical-align: top;\n",
       "    }\n",
       "\n",
       "    .dataframe thead th {\n",
       "        text-align: right;\n",
       "    }\n",
       "</style>\n",
       "<table border=\"1\" class=\"dataframe\">\n",
       "  <thead>\n",
       "    <tr style=\"text-align: right;\">\n",
       "      <th></th>\n",
       "      <th>Planet</th>\n",
       "      <th>Body ID</th>\n",
       "      <th>Equatorial Radius (km)</th>\n",
       "      <th>Polar Radius (km)</th>\n",
       "      <th>Flattening</th>\n",
       "    </tr>\n",
       "  </thead>\n",
       "  <tbody>\n",
       "    <tr>\n",
       "      <th>0</th>\n",
       "      <td>Mercury</td>\n",
       "      <td>199</td>\n",
       "      <td>2440.5300</td>\n",
       "      <td>2438.2600</td>\n",
       "      <td>0.000930</td>\n",
       "    </tr>\n",
       "    <tr>\n",
       "      <th>1</th>\n",
       "      <td>Venus</td>\n",
       "      <td>299</td>\n",
       "      <td>6051.8000</td>\n",
       "      <td>6051.8000</td>\n",
       "      <td>0.000000</td>\n",
       "    </tr>\n",
       "    <tr>\n",
       "      <th>2</th>\n",
       "      <td>Earth</td>\n",
       "      <td>399</td>\n",
       "      <td>6378.1366</td>\n",
       "      <td>6356.7519</td>\n",
       "      <td>0.003353</td>\n",
       "    </tr>\n",
       "    <tr>\n",
       "      <th>3</th>\n",
       "      <td>Mars</td>\n",
       "      <td>499</td>\n",
       "      <td>3396.1900</td>\n",
       "      <td>3376.2000</td>\n",
       "      <td>0.005886</td>\n",
       "    </tr>\n",
       "    <tr>\n",
       "      <th>4</th>\n",
       "      <td>Jupiter</td>\n",
       "      <td>599</td>\n",
       "      <td>71492.0000</td>\n",
       "      <td>66854.0000</td>\n",
       "      <td>0.064874</td>\n",
       "    </tr>\n",
       "    <tr>\n",
       "      <th>5</th>\n",
       "      <td>Saturn</td>\n",
       "      <td>699</td>\n",
       "      <td>60268.0000</td>\n",
       "      <td>54364.0000</td>\n",
       "      <td>0.097962</td>\n",
       "    </tr>\n",
       "    <tr>\n",
       "      <th>6</th>\n",
       "      <td>Uranus</td>\n",
       "      <td>799</td>\n",
       "      <td>25559.0000</td>\n",
       "      <td>24973.0000</td>\n",
       "      <td>0.022927</td>\n",
       "    </tr>\n",
       "    <tr>\n",
       "      <th>7</th>\n",
       "      <td>Neptune</td>\n",
       "      <td>899</td>\n",
       "      <td>24764.0000</td>\n",
       "      <td>24341.0000</td>\n",
       "      <td>0.017081</td>\n",
       "    </tr>\n",
       "    <tr>\n",
       "      <th>8</th>\n",
       "      <td>Pluto</td>\n",
       "      <td>999</td>\n",
       "      <td>1188.3000</td>\n",
       "      <td>1188.3000</td>\n",
       "      <td>0.000000</td>\n",
       "    </tr>\n",
       "  </tbody>\n",
       "</table>\n",
       "</div>"
      ],
      "text/plain": [
       "    Planet  Body ID  Equatorial Radius (km)  Polar Radius (km)  Flattening\n",
       "0  Mercury      199               2440.5300          2438.2600    0.000930\n",
       "1    Venus      299               6051.8000          6051.8000    0.000000\n",
       "2    Earth      399               6378.1366          6356.7519    0.003353\n",
       "3     Mars      499               3396.1900          3376.2000    0.005886\n",
       "4  Jupiter      599              71492.0000         66854.0000    0.064874\n",
       "5   Saturn      699              60268.0000         54364.0000    0.097962\n",
       "6   Uranus      799              25559.0000         24973.0000    0.022927\n",
       "7  Neptune      899              24764.0000         24341.0000    0.017081\n",
       "8    Pluto      999               1188.3000          1188.3000    0.000000"
      ]
     },
     "execution_count": 13,
     "metadata": {},
     "output_type": "execute_result"
    }
   ],
   "source": [
    "df_planets"
   ]
  },
  {
   "cell_type": "code",
   "execution_count": 14,
   "metadata": {},
   "outputs": [
    {
     "data": {
      "text/html": [
       "<div>\n",
       "<style scoped>\n",
       "    .dataframe tbody tr th:only-of-type {\n",
       "        vertical-align: middle;\n",
       "    }\n",
       "\n",
       "    .dataframe tbody tr th {\n",
       "        vertical-align: top;\n",
       "    }\n",
       "\n",
       "    .dataframe thead th {\n",
       "        text-align: right;\n",
       "    }\n",
       "</style>\n",
       "<table border=\"1\" class=\"dataframe\">\n",
       "  <thead>\n",
       "    <tr style=\"text-align: right;\">\n",
       "      <th></th>\n",
       "      <th>Body ID</th>\n",
       "      <th>Equatorial Radius 1 (km)</th>\n",
       "      <th>Equatorial Radius 2 (km)</th>\n",
       "      <th>Polar Radius (km)</th>\n",
       "    </tr>\n",
       "  </thead>\n",
       "  <tbody>\n",
       "    <tr>\n",
       "      <th>0</th>\n",
       "      <td>10</td>\n",
       "      <td>695700.0000</td>\n",
       "      <td>695700.0000</td>\n",
       "      <td>695700.0000</td>\n",
       "    </tr>\n",
       "    <tr>\n",
       "      <th>1</th>\n",
       "      <td>199</td>\n",
       "      <td>2440.5300</td>\n",
       "      <td>2440.5300</td>\n",
       "      <td>2438.2600</td>\n",
       "    </tr>\n",
       "    <tr>\n",
       "      <th>2</th>\n",
       "      <td>299</td>\n",
       "      <td>6051.8000</td>\n",
       "      <td>6051.8000</td>\n",
       "      <td>6051.8000</td>\n",
       "    </tr>\n",
       "    <tr>\n",
       "      <th>10</th>\n",
       "      <td>301</td>\n",
       "      <td>1737.4000</td>\n",
       "      <td>1737.4000</td>\n",
       "      <td>1737.4000</td>\n",
       "    </tr>\n",
       "    <tr>\n",
       "      <th>3</th>\n",
       "      <td>399</td>\n",
       "      <td>6378.1366</td>\n",
       "      <td>6378.1366</td>\n",
       "      <td>6356.7519</td>\n",
       "    </tr>\n",
       "    <tr>\n",
       "      <th>...</th>\n",
       "      <td>...</td>\n",
       "      <td>...</td>\n",
       "      <td>...</td>\n",
       "      <td>...</td>\n",
       "    </tr>\n",
       "    <tr>\n",
       "      <th>87</th>\n",
       "      <td>2002867</td>\n",
       "      <td>3.2400</td>\n",
       "      <td>2.7300</td>\n",
       "      <td>2.0400</td>\n",
       "    </tr>\n",
       "    <tr>\n",
       "      <th>88</th>\n",
       "      <td>2004179</td>\n",
       "      <td>2.1300</td>\n",
       "      <td>1.0150</td>\n",
       "      <td>0.8500</td>\n",
       "    </tr>\n",
       "    <tr>\n",
       "      <th>89</th>\n",
       "      <td>2025143</td>\n",
       "      <td>0.2680</td>\n",
       "      <td>0.1470</td>\n",
       "      <td>0.1040</td>\n",
       "    </tr>\n",
       "    <tr>\n",
       "      <th>82</th>\n",
       "      <td>2431010</td>\n",
       "      <td>26.8000</td>\n",
       "      <td>12.0000</td>\n",
       "      <td>7.6000</td>\n",
       "    </tr>\n",
       "    <tr>\n",
       "      <th>86</th>\n",
       "      <td>9511010</td>\n",
       "      <td>9.1000</td>\n",
       "      <td>5.2000</td>\n",
       "      <td>4.4000</td>\n",
       "    </tr>\n",
       "  </tbody>\n",
       "</table>\n",
       "<p>95 rows × 4 columns</p>\n",
       "</div>"
      ],
      "text/plain": [
       "    Body ID  Equatorial Radius 1 (km)  Equatorial Radius 2 (km)  \\\n",
       "0        10               695700.0000               695700.0000   \n",
       "1       199                 2440.5300                 2440.5300   \n",
       "2       299                 6051.8000                 6051.8000   \n",
       "10      301                 1737.4000                 1737.4000   \n",
       "3       399                 6378.1366                 6378.1366   \n",
       "..      ...                       ...                       ...   \n",
       "87  2002867                    3.2400                    2.7300   \n",
       "88  2004179                    2.1300                    1.0150   \n",
       "89  2025143                    0.2680                    0.1470   \n",
       "82  2431010                   26.8000                   12.0000   \n",
       "86  9511010                    9.1000                    5.2000   \n",
       "\n",
       "    Polar Radius (km)  \n",
       "0         695700.0000  \n",
       "1           2438.2600  \n",
       "2           6051.8000  \n",
       "10          1737.4000  \n",
       "3           6356.7519  \n",
       "..                ...  \n",
       "87             2.0400  \n",
       "88             0.8500  \n",
       "89             0.1040  \n",
       "82             7.6000  \n",
       "86             4.4000  \n",
       "\n",
       "[95 rows x 4 columns]"
      ]
     },
     "execution_count": 14,
     "metadata": {},
     "output_type": "execute_result"
    }
   ],
   "source": [
    "df_radii"
   ]
  },
  {
   "cell_type": "code",
   "execution_count": null,
   "metadata": {},
   "outputs": [],
   "source": []
  }
 ],
 "metadata": {
  "kernelspec": {
   "display_name": "py312",
   "language": "python",
   "name": "python3"
  },
  "language_info": {
   "codemirror_mode": {
    "name": "ipython",
    "version": 3
   },
   "file_extension": ".py",
   "mimetype": "text/x-python",
   "name": "python",
   "nbconvert_exporter": "python",
   "pygments_lexer": "ipython3",
   "version": "3.12.8"
  }
 },
 "nbformat": 4,
 "nbformat_minor": 2
}
